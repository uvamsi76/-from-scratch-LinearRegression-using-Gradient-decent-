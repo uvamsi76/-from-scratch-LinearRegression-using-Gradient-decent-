{
 "cells": [
  {
   "cell_type": "code",
   "execution_count": 89,
   "metadata": {},
   "outputs": [],
   "source": [
    "import numpy as np\n",
    "import pandas as pd\n",
    "from sklearn.model_selection import train_test_split\n",
    "import matplotlib.pyplot as plt"
   ]
  },
  {
   "cell_type": "code",
   "execution_count": 366,
   "metadata": {},
   "outputs": [],
   "source": [
    "class Linear_Regression():\n",
    "  \n",
    "\n",
    "  def __init__(self, learning_rate, no_of_iterations):\n",
    "\n",
    "    self.learning_rate = learning_rate\n",
    "    self.no_of_iterations = no_of_iterations\n",
    "\n",
    "  def H(self,X):\n",
    "        m,n=X.shape\n",
    "        theta=self.theta\n",
    "        HX=[]\n",
    "        for j in range(0,m):\n",
    "            # hx=np.dot(theta.T,X[j,:].reshape(n,1))\n",
    "            # hx=np.round(hx,2)\n",
    "            # # print(hx.item())\n",
    "            # HX.append(hx.item())\n",
    "\n",
    "            hx=np.dot(theta.T,X[j,:].reshape(n,1))\n",
    "            gx=1/1+np.exp(-2*hx)\n",
    "            gx=np.round(gx,2)\n",
    "            # print(hx.item())\n",
    "            HX.append(gx.item())\n",
    "        HX=np.array(HX,dtype=X.dtype)\n",
    "        \n",
    "        # HX=HX.reshape((m,1))\n",
    "        # print(HX.shape)\n",
    "        return np.array(HX)\n",
    "  def fit(self, X, Y ):\n",
    "    def plot(X_test,Y_test,test_data_prediction):\n",
    "      plt.scatter(X_test, Y_test, color = 'red')\n",
    "      plt.plot(X_test, test_data_prediction, color='blue')\n",
    "      plt.xlabel(' Work Experience')\n",
    "      plt.ylabel('Salary')\n",
    "      plt.title(' Salary vs Experience')\n",
    "      plt.show()\n",
    "  \n",
    "    self.m, self.n = X.shape  \n",
    "    ones_column = np.ones((self.m, 1), dtype=X.dtype)\n",
    "    result_array = np.concatenate((X, ones_column), axis=1)\n",
    "    self.X = result_array\n",
    "    self.Y=np.array(Y)\n",
    "    # self.Y = self.Y.reshape(self.m,1)\n",
    "    self.m, self.n = self.X.shape\n",
    "\n",
    "    self.theta = np.zeros((self.n,1),dtype=X.dtype)\n",
    "\n",
    "    self.HX=self.H(self.X)\n",
    "    plt.scatter(X, Y, color = 'red')\n",
    "    # print(self.HX.shape)\n",
    "    # print(self.Y.shape)\n",
    "    for i in range(self.no_of_iterations):\n",
    "      self.update_weights()    \n",
    "      self.HX=self.H(self.X)\n",
    "      if(i%10==0):\n",
    "        plot(X,self.Y, self.HX)\n",
    "      # print(self.theta)\n",
    "      # print(self.HX)\n",
    "  \n",
    "  def update_weights(self):\n",
    "    for j in range(0,self.n):\n",
    "       s=np.dot(self.X[:,j].T,(self.Y-self.HX))\n",
    "       s=np.round(s,2)\n",
    "      #  print(self.HX)\n",
    "      #  print(\"-------HX------------\",j)\n",
    "      #  print(self.theta)\n",
    "      #  print(\"--------theta-----------\")\n",
    "      #  print(self.Y[j])\n",
    "      #  print(\"--------Y-----------\")\n",
    "      #  print(self.X[:,j].T)\n",
    "      #  print(\"--------theta-----------\")\n",
    "      #  print(s)\n",
    "       self.theta[j]=self.theta[j]-self.learning_rate*(s.item())\n",
    "       \n",
    "       \n",
    "\n",
    "  def predict(self,X):  \n",
    "     zeros_column = np.ones((X.shape[0], 1), dtype=X.dtype)\n",
    "     result_array = np.concatenate((X, zeros_column), axis=1)\n",
    "     X = result_array\n",
    "     op=self.H(X)\n",
    "     return op\n",
    "  \n",
    "  def predictsolo(self,x):\n",
    "     x=np.array(x)\n",
    "     hx=np.dot(self.theta.T,x.reshape(self.n,1))\n",
    "    #  print(hx)\n",
    "     return hx"
   ]
  },
  {
   "cell_type": "code",
   "execution_count": 367,
   "metadata": {},
   "outputs": [],
   "source": [
    "salary_data = pd.read_csv('diabetes.csv')"
   ]
  },
  {
   "cell_type": "code",
   "execution_count": 368,
   "metadata": {},
   "outputs": [],
   "source": [
    "X = salary_data.iloc[:,:-1].values      \n",
    "Y = salary_data.iloc[:,1].values"
   ]
  },
  {
   "cell_type": "code",
   "execution_count": 370,
   "metadata": {},
   "outputs": [
    {
     "data": {
      "text/plain": [
       "array([[1.000e+01, 1.790e+02, 7.000e+01, ..., 3.510e+01, 2.000e-01,\n",
       "        3.700e+01],\n",
       "       [5.000e+00, 9.900e+01, 5.400e+01, ..., 3.400e+01, 4.990e-01,\n",
       "        3.000e+01],\n",
       "       [2.000e+00, 1.220e+02, 5.200e+01, ..., 3.620e+01, 8.160e-01,\n",
       "        2.800e+01],\n",
       "       ...,\n",
       "       [4.000e+00, 1.250e+02, 7.000e+01, ..., 2.890e+01, 1.144e+00,\n",
       "        4.500e+01],\n",
       "       [3.000e+00, 1.160e+02, 7.400e+01, ..., 2.630e+01, 1.070e-01,\n",
       "        2.400e+01],\n",
       "       [4.000e+00, 1.100e+02, 6.600e+01, ..., 3.190e+01, 4.710e-01,\n",
       "        2.900e+01]])"
      ]
     },
     "execution_count": 370,
     "metadata": {},
     "output_type": "execute_result"
    }
   ],
   "source": [
    "X_train, X_test, Y_train, Y_test = train_test_split(X, Y, test_size=0.33, random_state = 2)\n",
    "X_train"
   ]
  },
  {
   "cell_type": "code",
   "execution_count": 371,
   "metadata": {},
   "outputs": [],
   "source": [
    "model = Linear_Regression(learning_rate = 0.001, no_of_iterations=100)"
   ]
  },
  {
   "cell_type": "code",
   "execution_count": 372,
   "metadata": {},
   "outputs": [
    {
     "ename": "ValueError",
     "evalue": "x and y must be the same size",
     "output_type": "error",
     "traceback": [
      "\u001b[0;31m---------------------------------------------------------------------------\u001b[0m",
      "\u001b[0;31mValueError\u001b[0m                                Traceback (most recent call last)",
      "\u001b[1;32m/home/vamsi/Desktop/ML algos/Lierareg.ipynb Cell 7\u001b[0m line \u001b[0;36m1\n\u001b[0;32m----> <a href='vscode-notebook-cell:/home/vamsi/Desktop/ML%20algos/Lierareg.ipynb#W6sZmlsZQ%3D%3D?line=0'>1</a>\u001b[0m model\u001b[39m.\u001b[39;49mfit(X_train, Y_train)\n",
      "\u001b[1;32m/home/vamsi/Desktop/ML algos/Lierareg.ipynb Cell 7\u001b[0m line \u001b[0;36m4\n\u001b[1;32m     <a href='vscode-notebook-cell:/home/vamsi/Desktop/ML%20algos/Lierareg.ipynb#W6sZmlsZQ%3D%3D?line=45'>46</a>\u001b[0m \u001b[39mself\u001b[39m\u001b[39m.\u001b[39mtheta \u001b[39m=\u001b[39m np\u001b[39m.\u001b[39mzeros((\u001b[39mself\u001b[39m\u001b[39m.\u001b[39mn,\u001b[39m1\u001b[39m),dtype\u001b[39m=\u001b[39mX\u001b[39m.\u001b[39mdtype)\n\u001b[1;32m     <a href='vscode-notebook-cell:/home/vamsi/Desktop/ML%20algos/Lierareg.ipynb#W6sZmlsZQ%3D%3D?line=47'>48</a>\u001b[0m \u001b[39mself\u001b[39m\u001b[39m.\u001b[39mHX\u001b[39m=\u001b[39m\u001b[39mself\u001b[39m\u001b[39m.\u001b[39mH(\u001b[39mself\u001b[39m\u001b[39m.\u001b[39mX)\n\u001b[0;32m---> <a href='vscode-notebook-cell:/home/vamsi/Desktop/ML%20algos/Lierareg.ipynb#W6sZmlsZQ%3D%3D?line=48'>49</a>\u001b[0m plt\u001b[39m.\u001b[39;49mscatter(X, Y, color \u001b[39m=\u001b[39;49m \u001b[39m'\u001b[39;49m\u001b[39mred\u001b[39;49m\u001b[39m'\u001b[39;49m)\n\u001b[1;32m     <a href='vscode-notebook-cell:/home/vamsi/Desktop/ML%20algos/Lierareg.ipynb#W6sZmlsZQ%3D%3D?line=49'>50</a>\u001b[0m \u001b[39m# print(self.HX.shape)\u001b[39;00m\n\u001b[1;32m     <a href='vscode-notebook-cell:/home/vamsi/Desktop/ML%20algos/Lierareg.ipynb#W6sZmlsZQ%3D%3D?line=50'>51</a>\u001b[0m \u001b[39m# print(self.Y.shape)\u001b[39;00m\n\u001b[1;32m     <a href='vscode-notebook-cell:/home/vamsi/Desktop/ML%20algos/Lierareg.ipynb#W6sZmlsZQ%3D%3D?line=51'>52</a>\u001b[0m \u001b[39mfor\u001b[39;00m i \u001b[39min\u001b[39;00m \u001b[39mrange\u001b[39m(\u001b[39mself\u001b[39m\u001b[39m.\u001b[39mno_of_iterations):\n",
      "File \u001b[0;32m~/.local/lib/python3.11/site-packages/matplotlib/pyplot.py:2862\u001b[0m, in \u001b[0;36mscatter\u001b[0;34m(x, y, s, c, marker, cmap, norm, vmin, vmax, alpha, linewidths, edgecolors, plotnonfinite, data, **kwargs)\u001b[0m\n\u001b[1;32m   2857\u001b[0m \u001b[39m@_copy_docstring_and_deprecators\u001b[39m(Axes\u001b[39m.\u001b[39mscatter)\n\u001b[1;32m   2858\u001b[0m \u001b[39mdef\u001b[39;00m \u001b[39mscatter\u001b[39m(\n\u001b[1;32m   2859\u001b[0m         x, y, s\u001b[39m=\u001b[39m\u001b[39mNone\u001b[39;00m, c\u001b[39m=\u001b[39m\u001b[39mNone\u001b[39;00m, marker\u001b[39m=\u001b[39m\u001b[39mNone\u001b[39;00m, cmap\u001b[39m=\u001b[39m\u001b[39mNone\u001b[39;00m, norm\u001b[39m=\u001b[39m\u001b[39mNone\u001b[39;00m,\n\u001b[1;32m   2860\u001b[0m         vmin\u001b[39m=\u001b[39m\u001b[39mNone\u001b[39;00m, vmax\u001b[39m=\u001b[39m\u001b[39mNone\u001b[39;00m, alpha\u001b[39m=\u001b[39m\u001b[39mNone\u001b[39;00m, linewidths\u001b[39m=\u001b[39m\u001b[39mNone\u001b[39;00m, \u001b[39m*\u001b[39m,\n\u001b[1;32m   2861\u001b[0m         edgecolors\u001b[39m=\u001b[39m\u001b[39mNone\u001b[39;00m, plotnonfinite\u001b[39m=\u001b[39m\u001b[39mFalse\u001b[39;00m, data\u001b[39m=\u001b[39m\u001b[39mNone\u001b[39;00m, \u001b[39m*\u001b[39m\u001b[39m*\u001b[39mkwargs):\n\u001b[0;32m-> 2862\u001b[0m     __ret \u001b[39m=\u001b[39m gca()\u001b[39m.\u001b[39;49mscatter(\n\u001b[1;32m   2863\u001b[0m         x, y, s\u001b[39m=\u001b[39;49ms, c\u001b[39m=\u001b[39;49mc, marker\u001b[39m=\u001b[39;49mmarker, cmap\u001b[39m=\u001b[39;49mcmap, norm\u001b[39m=\u001b[39;49mnorm,\n\u001b[1;32m   2864\u001b[0m         vmin\u001b[39m=\u001b[39;49mvmin, vmax\u001b[39m=\u001b[39;49mvmax, alpha\u001b[39m=\u001b[39;49malpha, linewidths\u001b[39m=\u001b[39;49mlinewidths,\n\u001b[1;32m   2865\u001b[0m         edgecolors\u001b[39m=\u001b[39;49medgecolors, plotnonfinite\u001b[39m=\u001b[39;49mplotnonfinite,\n\u001b[1;32m   2866\u001b[0m         \u001b[39m*\u001b[39;49m\u001b[39m*\u001b[39;49m({\u001b[39m\"\u001b[39;49m\u001b[39mdata\u001b[39;49m\u001b[39m\"\u001b[39;49m: data} \u001b[39mif\u001b[39;49;00m data \u001b[39mis\u001b[39;49;00m \u001b[39mnot\u001b[39;49;00m \u001b[39mNone\u001b[39;49;00m \u001b[39melse\u001b[39;49;00m {}), \u001b[39m*\u001b[39;49m\u001b[39m*\u001b[39;49mkwargs)\n\u001b[1;32m   2867\u001b[0m     sci(__ret)\n\u001b[1;32m   2868\u001b[0m     \u001b[39mreturn\u001b[39;00m __ret\n",
      "File \u001b[0;32m~/.local/lib/python3.11/site-packages/matplotlib/__init__.py:1446\u001b[0m, in \u001b[0;36m_preprocess_data.<locals>.inner\u001b[0;34m(ax, data, *args, **kwargs)\u001b[0m\n\u001b[1;32m   1443\u001b[0m \u001b[39m@functools\u001b[39m\u001b[39m.\u001b[39mwraps(func)\n\u001b[1;32m   1444\u001b[0m \u001b[39mdef\u001b[39;00m \u001b[39minner\u001b[39m(ax, \u001b[39m*\u001b[39margs, data\u001b[39m=\u001b[39m\u001b[39mNone\u001b[39;00m, \u001b[39m*\u001b[39m\u001b[39m*\u001b[39mkwargs):\n\u001b[1;32m   1445\u001b[0m     \u001b[39mif\u001b[39;00m data \u001b[39mis\u001b[39;00m \u001b[39mNone\u001b[39;00m:\n\u001b[0;32m-> 1446\u001b[0m         \u001b[39mreturn\u001b[39;00m func(ax, \u001b[39m*\u001b[39;49m\u001b[39mmap\u001b[39;49m(sanitize_sequence, args), \u001b[39m*\u001b[39;49m\u001b[39m*\u001b[39;49mkwargs)\n\u001b[1;32m   1448\u001b[0m     bound \u001b[39m=\u001b[39m new_sig\u001b[39m.\u001b[39mbind(ax, \u001b[39m*\u001b[39margs, \u001b[39m*\u001b[39m\u001b[39m*\u001b[39mkwargs)\n\u001b[1;32m   1449\u001b[0m     auto_label \u001b[39m=\u001b[39m (bound\u001b[39m.\u001b[39marguments\u001b[39m.\u001b[39mget(label_namer)\n\u001b[1;32m   1450\u001b[0m                   \u001b[39mor\u001b[39;00m bound\u001b[39m.\u001b[39mkwargs\u001b[39m.\u001b[39mget(label_namer))\n",
      "File \u001b[0;32m~/.local/lib/python3.11/site-packages/matplotlib/axes/_axes.py:4578\u001b[0m, in \u001b[0;36mAxes.scatter\u001b[0;34m(self, x, y, s, c, marker, cmap, norm, vmin, vmax, alpha, linewidths, edgecolors, plotnonfinite, **kwargs)\u001b[0m\n\u001b[1;32m   4576\u001b[0m y \u001b[39m=\u001b[39m np\u001b[39m.\u001b[39mma\u001b[39m.\u001b[39mravel(y)\n\u001b[1;32m   4577\u001b[0m \u001b[39mif\u001b[39;00m x\u001b[39m.\u001b[39msize \u001b[39m!=\u001b[39m y\u001b[39m.\u001b[39msize:\n\u001b[0;32m-> 4578\u001b[0m     \u001b[39mraise\u001b[39;00m \u001b[39mValueError\u001b[39;00m(\u001b[39m\"\u001b[39m\u001b[39mx and y must be the same size\u001b[39m\u001b[39m\"\u001b[39m)\n\u001b[1;32m   4580\u001b[0m \u001b[39mif\u001b[39;00m s \u001b[39mis\u001b[39;00m \u001b[39mNone\u001b[39;00m:\n\u001b[1;32m   4581\u001b[0m     s \u001b[39m=\u001b[39m (\u001b[39m20\u001b[39m \u001b[39mif\u001b[39;00m mpl\u001b[39m.\u001b[39mrcParams[\u001b[39m'\u001b[39m\u001b[39m_internal.classic_mode\u001b[39m\u001b[39m'\u001b[39m] \u001b[39melse\u001b[39;00m\n\u001b[1;32m   4582\u001b[0m          mpl\u001b[39m.\u001b[39mrcParams[\u001b[39m'\u001b[39m\u001b[39mlines.markersize\u001b[39m\u001b[39m'\u001b[39m] \u001b[39m*\u001b[39m\u001b[39m*\u001b[39m \u001b[39m2.0\u001b[39m)\n",
      "\u001b[0;31mValueError\u001b[0m: x and y must be the same size"
     ]
    },
    {
     "data": {
      "image/png": "[encoded data removed]",
      "text/plain": [
       "<Figure size 640x480 with 1 Axes>"
      ]
     },
     "metadata": {},
     "output_type": "display_data"
    }
   ],
   "source": [
    "model.fit(X_train, Y_train)"
   ]
  },
  {
   "cell_type": "code",
   "execution_count": 355,
   "metadata": {},
   "outputs": [],
   "source": [
    "test_data_prediction=model.predict(X_test)"
   ]
  },
  {
   "cell_type": "code",
   "execution_count": 356,
   "metadata": {},
   "outputs": [
    {
     "data": {
      "text/plain": [
       "array([ 46205,  39343,  61111,  57189,  98273,  93940, 113812,  60150,\n",
       "        43525,  91738])"
      ]
     },
     "execution_count": 356,
     "metadata": {},
     "output_type": "execute_result"
    }
   ],
   "source": [
    "Y_test"
   ]
  },
  {
   "cell_type": "code",
   "execution_count": 337,
   "metadata": {},
   "outputs": [],
   "source": [
    "def plot(X_test,Y_test,test_data_prediction):\n",
    "      plt.scatter(X_test, Y_test, color = 'red')\n",
    "      plt.plot(X_test, test_data_prediction, color='blue')\n",
    "      plt.xlabel(' Work Experience')\n",
    "      plt.ylabel('Salary')\n",
    "      plt.title(' Salary vs Experience')\n",
    "      plt.show()"
   ]
  },
  {
   "cell_type": "code",
   "execution_count": 357,
   "metadata": {},
   "outputs": [
    {
     "data": {
      "image/png": "[encoded data removed]",
      "text/plain": [
       "<Figure size 640x480 with 1 Axes>"
      ]
     },
     "metadata": {},
     "output_type": "display_data"
    }
   ],
   "source": [
    "plot(X_test,Y_test,test_data_prediction)"
   ]
  },
  {
   "cell_type": "code",
   "execution_count": null,
   "metadata": {},
   "outputs": [],
   "source": []
  }
 ],
 "metadata": {
  "kernelspec": {
   "display_name": "Python 3",
   "language": "python",
   "name": "python3"
  },
  "language_info": {
   "codemirror_mode": {
    "name": "ipython",
    "version": 3
   },
   "file_extension": ".py",
   "mimetype": "text/x-python",
   "name": "python",
   "nbconvert_exporter": "python",
   "pygments_lexer": "ipython3",
   "version": "3.11.4"
  },
  "orig_nbformat": 4
 },
 "nbformat": 4,
 "nbformat_minor": 2
}
