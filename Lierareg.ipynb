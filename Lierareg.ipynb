{
 "cells": [
  {
   "cell_type": "code",
   "execution_count": 1,
   "metadata": {},
   "outputs": [],
   "source": [
    "import numpy as np"
   ]
  },
  {
   "cell_type": "code",
   "execution_count": null,
   "metadata": {},
   "outputs": [],
   "source": [
    "class Linear_Regression():\n",
    "\n",
    "  def __init__(self, learning_rate, no_of_iterations):\n",
    "\n",
    "    self.learning_rate = learning_rate\n",
    "    self.no_of_iterations = no_of_iterations\n",
    "\n",
    "  \n",
    "  \n",
    "\n",
    "  def fit(self, X, Y ):\n",
    "    def H(X,m,theta,n):\n",
    "        HX=[]\n",
    "        for j in range(1,m):\n",
    "            hx=np.dot(theta.T,X[j,:].reshape(n,1))\n",
    "            HX.push(hx.item())\n",
    "        return np.array(HX)\n",
    "  \n",
    "    self.m, self.n = X.shape  \n",
    "    \n",
    "    self.theta = np.zeros(self.n+1,1)\n",
    "    zeros_column = np.ones((self.m, 1), dtype=X.dtype)\n",
    "\n",
    "    result_array = np.concatenate((X, zeros_column), axis=1)\n",
    "    self.X = result_array\n",
    "    self.Y = Y\n",
    "    self.m, self.n = X.shape\n",
    "    self.HX=H(X,self.m,self.theta,self.n)\n",
    "    for i in range(self.no_of_iterations):\n",
    "      self.update_weights()    \n",
    "  \n",
    "  def update_weights(self):\n",
    "    for j in range(1,self.n):\n",
    "       self.theta[j]=self.theta[j]+self.learning_rate*(np.dot(self.X[:,j].T,self.Y-self.HX))\n",
    "\n",
    "  def predict(self,x):\n",
    "     x=np.array(x)\n",
    "     hx=np.dot(self.theta.T,x.reshape(self.n,1))\n",
    "     print(hx)\n",
    "     return hx"
   ]
  }
 ],
 "metadata": {
  "kernelspec": {
   "display_name": "Python 3",
   "language": "python",
   "name": "python3"
  },
  "language_info": {
   "codemirror_mode": {
    "name": "ipython",
    "version": 3
   },
   "file_extension": ".py",
   "mimetype": "text/x-python",
   "name": "python",
   "nbconvert_exporter": "python",
   "pygments_lexer": "ipython3",
   "version": "3.11.4"
  },
  "orig_nbformat": 4
 },
 "nbformat": 4,
 "nbformat_minor": 2
}
